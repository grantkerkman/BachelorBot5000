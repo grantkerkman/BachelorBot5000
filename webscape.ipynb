{
 "cells": [
  {
   "cell_type": "code",
   "execution_count": 1,
   "id": "c5a902b9",
   "metadata": {},
   "outputs": [],
   "source": [
    "# Import Dependencies\n",
    "from bs4 import BeautifulSoup\n",
    "from pprint import pprint\n",
    "from splinter import Browser\n",
    "\n",
    "import pandas as pd\n",
    "import numpy as np"
   ]
  },
  {
   "cell_type": "code",
   "execution_count": 2,
   "id": "d97470ee",
   "metadata": {},
   "outputs": [],
   "source": [
    "# Create a Chrome browser instance\n",
    "browser = Browser('chrome')"
   ]
  },
  {
   "cell_type": "markdown",
   "id": "32998962",
   "metadata": {},
   "source": [
    "To-Do:\n",
    "\n",
    "* Determine which pages have what number of columns and where the table appears in the list\n",
    "* Group based on columns (potentially on table position too)\n",
    "* Create dictionary to be iterated through with columns and table position\n",
    "* Concat each together and clean"
   ]
  },
  {
   "cell_type": "code",
   "execution_count": 14,
   "id": "e9a53e26",
   "metadata": {},
   "outputs": [
    {
     "name": "stdout",
     "output_type": "stream",
     "text": [
      "None\n"
     ]
    }
   ],
   "source": [
    "###################################\n",
    "# Debugger\n",
    "##################################\n",
    "\n",
    "# Creat the URL list\n",
    "seasons = [1, 2, 5, 9, 10, 11, 12, 13, 14, 15, 16, 17, 18, 19, 20, 21, 22, 23, 24, 25, 26, 27, 28]\n",
    "urls = []\n",
    "for season in seasons:\n",
    "    url = f'https://en.wikipedia.org/wiki/The_Bachelor_(American_season_{season})'\n",
    "    urls.append(url)\n",
    "\n",
    "# Visit sites and scrape data\n",
    "combined_data = []\n",
    "for url in urls:  \n",
    "    \n",
    "    # Visit the page and create the soup object\n",
    "    browser.visit(url)\n",
    "    html = browser.html\n",
    "    soup = BeautifulSoup(html, 'html.parser')\n",
    "    table = soup.find_all('table')[1]\n",
    "\n",
    "    # Extract data from the table\n",
    "    # Create an empty list\n",
    "    data_list = []\n",
    "    \n",
    "    # Iterate through the rows in the table\n",
    "    for row in table.find_all('tr'):\n",
    "        \n",
    "        # Empty list for the row data\n",
    "        row_data = []\n",
    "\n",
    "        # Iterate through the <td> tags for each cell data point in the current row\n",
    "        for cell in row.find_all('td'):\n",
    "            \n",
    "            row_data.append(cell.get_text())\n",
    "\n",
    "        # Append the row_data list to the data_list\n",
    "        data_list.append(row_data)\n",
    "            \n",
    "    combined_data.extend(data_list)\n",
    "\n",
    "## Create a Pandas DataFrame by using the list of rows and a list of the column names\n",
    "columns = ['name', 'age', 'hometown', 'job', 'eliminated']\n",
    "\n",
    "data_df = pd.DataFrame(combined_data, columns=columns)\n",
    "\n",
    "data_df\n",
    "\n",
    "# Print the Files to a .csv\n",
    "#file_path = f'../resources/{school}_offense.csv'\n",
    "#offense_df.to_csv(file_path, index=False)"
   ]
  },
  {
   "cell_type": "code",
   "execution_count": null,
   "id": "0c2d91ed",
   "metadata": {},
   "outputs": [],
   "source": [
    "###################################\n",
    "# Script to get contestant Data\n",
    "##################################\n",
    "\n",
    "# Creat the URL list\n",
    "seasons = [1, 2, 5, 9, 10, 11, 12, 13, 14, 15, 16, 17, 18, 19, 20, 21, 22, 23, 24, 25, 26, 27, 28]\n",
    "urls = []\n",
    "for season in seasons:\n",
    "    url = f'https://en.wikipedia.org/wiki/The_Bachelor_(American_season_{season})'\n",
    "    urls.append(url)\n",
    "\n",
    "# Visit sites and scrape data\n",
    "combined_data = []\n",
    "for url in urls:  \n",
    "    \n",
    "    # Visit the page and create the soup object\n",
    "    browser.visit(url)\n",
    "    html = browser.html\n",
    "    soup = BeautifulSoup(html, 'html.parser')\n",
    "    table = soup.find_all('table')[1]\n",
    "\n",
    "    # Extract data from the table\n",
    "    # Create an empty list\n",
    "    data_list = []\n",
    "    \n",
    "    # Iterate through the rows in the table\n",
    "    for row in table.find_all('tr'):\n",
    "        \n",
    "        # Empty list for the row data\n",
    "        row_data = []\n",
    "\n",
    "        # Iterate through the <td> tags for each cell data point in the current row\n",
    "        for cell in row.find_all('td'):\n",
    "            \n",
    "            row_data.append(cell.get_text())\n",
    "\n",
    "        # Append the row_data list to the data_list\n",
    "        data_list.append(row_data)\n",
    "            \n",
    "    combined_data.extend(data_list)\n",
    "\n",
    "## Create a Pandas DataFrame by using the list of rows and a list of the column names\n",
    "columns = ['name', 'age', 'hometown', 'job', 'eliminated']\n",
    "\n",
    "data_df = pd.DataFrame(combined_data, columns=columns)\n",
    "\n",
    "data_df\n",
    "\n",
    "# Print the Files to a .csv\n",
    "file_path = f'../resources/{school}_offense.csv'\n",
    "offense_df.to_csv(file_path, index=False)"
   ]
  },
  {
   "cell_type": "code",
   "execution_count": null,
   "id": "023e3762",
   "metadata": {},
   "outputs": [],
   "source": []
  }
 ],
 "metadata": {
  "kernelspec": {
   "display_name": "Python 3 (ipykernel)",
   "language": "python",
   "name": "python3"
  },
  "language_info": {
   "codemirror_mode": {
    "name": "ipython",
    "version": 3
   },
   "file_extension": ".py",
   "mimetype": "text/x-python",
   "name": "python",
   "nbconvert_exporter": "python",
   "pygments_lexer": "ipython3",
   "version": "3.10.9"
  }
 },
 "nbformat": 4,
 "nbformat_minor": 5
}
